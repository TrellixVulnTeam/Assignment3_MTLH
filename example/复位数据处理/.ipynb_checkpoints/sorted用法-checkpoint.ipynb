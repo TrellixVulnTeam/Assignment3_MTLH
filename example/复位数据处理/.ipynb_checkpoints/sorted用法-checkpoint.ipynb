{
 "cells": [
  {
   "cell_type": "markdown",
   "id": "designing-intent",
   "metadata": {},
   "source": [
    "# 根据字符串长度排序"
   ]
  },
  {
   "cell_type": "code",
   "execution_count": 1,
   "id": "adapted-transition",
   "metadata": {},
   "outputs": [
    {
     "data": {
      "text/plain": [
       "['ba', 'aaa', 'cccc']"
      ]
     },
     "execution_count": 1,
     "metadata": {},
     "output_type": "execute_result"
    }
   ],
   "source": [
    "a = ['aaa','ba','cccc']\n",
    "sorted(a,key=lambda x:len(x))"
   ]
  },
  {
   "cell_type": "markdown",
   "id": "controlled-viewer",
   "metadata": {},
   "source": [
    "# 根据元素与1的接近程度排序"
   ]
  },
  {
   "cell_type": "code",
   "execution_count": 2,
   "id": "based-hayes",
   "metadata": {},
   "outputs": [],
   "source": [
    "import numpy as np"
   ]
  },
  {
   "cell_type": "code",
   "execution_count": 3,
   "id": "improved-monday",
   "metadata": {},
   "outputs": [],
   "source": [
    "a = [1.5,2.7,0.4,4.1,0.9]"
   ]
  },
  {
   "cell_type": "code",
   "execution_count": 5,
   "id": "thermal-grove",
   "metadata": {},
   "outputs": [
    {
     "data": {
      "text/plain": [
       "[0.9, 1.5, 0.4, 2.7, 4.1]"
      ]
     },
     "execution_count": 5,
     "metadata": {},
     "output_type": "execute_result"
    }
   ],
   "source": [
    "sorted(a,key=lambda x:np.abs(x-1))"
   ]
  },
  {
   "cell_type": "markdown",
   "id": "polished-portfolio",
   "metadata": {},
   "source": [
    "# 根据每个元组第二个元素进行排序"
   ]
  },
  {
   "cell_type": "code",
   "execution_count": 6,
   "id": "complete-launch",
   "metadata": {},
   "outputs": [
    {
     "data": {
      "text/plain": [
       "[('b', 1), ('c', 2), ('a', 3)]"
      ]
     },
     "execution_count": 6,
     "metadata": {},
     "output_type": "execute_result"
    }
   ],
   "source": [
    "a = [('a',3),('b',1),('c',2)]\n",
    "sorted(a,key=lambda x:x[1])"
   ]
  },
  {
   "cell_type": "code",
   "execution_count": 7,
   "id": "revised-compensation",
   "metadata": {},
   "outputs": [
    {
     "data": {
      "text/plain": [
       "[('b', 1), ('c', 2), ('a', 3)]"
      ]
     },
     "execution_count": 7,
     "metadata": {},
     "output_type": "execute_result"
    }
   ],
   "source": [
    "sorted(a,key=lambda x:(x[1],x[0])) # 如果元素是元组，sorted默认按第一个元素排序，所以把原本第二个元素换成第一个元素就可以了"
   ]
  },
  {
   "cell_type": "code",
   "execution_count": null,
   "id": "funded-submission",
   "metadata": {},
   "outputs": [],
   "source": []
  }
 ],
 "metadata": {
  "kernelspec": {
   "display_name": "Python 3",
   "language": "python",
   "name": "python3"
  },
  "language_info": {
   "codemirror_mode": {
    "name": "ipython",
    "version": 3
   },
   "file_extension": ".py",
   "mimetype": "text/x-python",
   "name": "python",
   "nbconvert_exporter": "python",
   "pygments_lexer": "ipython3",
   "version": "3.7.8rc1"
  }
 },
 "nbformat": 4,
 "nbformat_minor": 5
}
