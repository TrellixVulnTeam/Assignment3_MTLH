{
 "cells": [
  {
   "cell_type": "code",
   "execution_count": 1,
   "id": "floral-webster",
   "metadata": {},
   "outputs": [],
   "source": [
    "# 导入库\n",
    "import os\n",
    "from pathlib import Path\n",
    "os.chdir(Path(os.getcwd()).parent.parent)"
   ]
  },
  {
   "cell_type": "code",
   "execution_count": 27,
   "id": "suburban-witch",
   "metadata": {},
   "outputs": [],
   "source": [
    "from collections import defaultdict\n",
    "from data_manager.BasicsDataManager import BasicsDataManager\n",
    "from data_manager.IndustryDataManager import IndustryDataManager"
   ]
  },
  {
   "cell_type": "code",
   "execution_count": 28,
   "id": "passing-barrier",
   "metadata": {},
   "outputs": [],
   "source": [
    "self = IndustryDataManager()"
   ]
  },
  {
   "cell_type": "code",
   "execution_count": 31,
   "id": "copyrighted-retro",
   "metadata": {},
   "outputs": [],
   "source": [
    "# 导入数据\n",
    "Huatai_industry_symbol_map = self.get_industry_symbol_map(group='original_industry', name='Huatai_industry_map')\n",
    "Nanhua_first_industry_symbol_map = self.get_industry_symbol_map(group='original_industry', name='Nanhua_first_industry_map')\n",
    "Nanhua_second_industry_symbol_map = self.get_industry_symbol_map(group='original_industry', name='Nanhua_second_industry_map')\n",
    "RQ_industry_symbol_map = self.get_industry_symbol_map(group='original_industry', name='RQ_industry_map')"
   ]
  },
  {
   "cell_type": "code",
   "execution_count": 15,
   "id": "german-twist",
   "metadata": {},
   "outputs": [],
   "source": [
    "# 代码大小写\n",
    "self = BasicsDataManager()\n",
    "symbol_exchange_map = self.get_all_instruments()[['underlying_symbol', 'exchange']].drop_duplicates().set_index('underlying_symbol')['exchange'].to_dict()"
   ]
  },
  {
   "cell_type": "code",
   "execution_count": 20,
   "id": "elementary-background",
   "metadata": {},
   "outputs": [],
   "source": [
    "def modify_code(industry_symbol_map):\n",
    "    new_industry_symbol_map = defaultdict(list)\n",
    "    for industry in industry_symbol_map:\n",
    "        for symbol in industry_symbol_map[industry]:\n",
    "            if symbol_exchange_map[symbol] != 'CZCE':\n",
    "                new_industry_symbol_map[industry].append(symbol.lower())\n",
    "            else:\n",
    "                new_industry_symbol_map[industry].append(symbol)\n",
    "    return new_industry_symbol_map"
   ]
  },
  {
   "cell_type": "code",
   "execution_count": 21,
   "id": "royal-divide",
   "metadata": {},
   "outputs": [
    {
     "data": {
      "text/plain": [
       "defaultdict(list,\n",
       "            {'谷物': ['c', 'cs', 'JR', 'RI', 'LR', 'PM', 'WH'],\n",
       "             '油脂油料': ['a', 'b', 'm', 'y', 'p', 'OI', 'RM', 'RS'],\n",
       "             '软商品': ['SR', 'CF'],\n",
       "             '农副产品': ['jd'],\n",
       "             '有色': ['cu', 'al', 'zn', 'pb', 'ni', 'sn'],\n",
       "             '贵金属': ['au', 'ag'],\n",
       "             '煤焦钢矿': ['rb', 'hc', 'wr', 'i', 'SF', 'SM', 'jm', 'j'],\n",
       "             '非金属建材': ['bb', 'fb', 'v', 'FG'],\n",
       "             '能源': ['fu', 'ZC'],\n",
       "             '化工': ['ru', 'TA', 'pp', 'l', 'bu', 'MA']})"
      ]
     },
     "execution_count": 21,
     "metadata": {},
     "output_type": "execute_result"
    }
   ],
   "source": [
    "modify_code(Huatai_industry_symbol_map)"
   ]
  },
  {
   "cell_type": "code",
   "execution_count": 22,
   "id": "genuine-korea",
   "metadata": {},
   "outputs": [
    {
     "data": {
      "text/plain": [
       "defaultdict(list,\n",
       "            {'金属': ['rb',\n",
       "              'i',\n",
       "              'hc',\n",
       "              'wr',\n",
       "              'SM',\n",
       "              'SF',\n",
       "              'cu',\n",
       "              'al',\n",
       "              'ni',\n",
       "              'zn',\n",
       "              'pb',\n",
       "              'sn'],\n",
       "             '能源化工': ['ru',\n",
       "              'j',\n",
       "              'sc',\n",
       "              'ZC',\n",
       "              'l',\n",
       "              'TA',\n",
       "              'jm',\n",
       "              'pp',\n",
       "              'FG',\n",
       "              'bu',\n",
       "              'v',\n",
       "              'MA',\n",
       "              'fu'],\n",
       "             '工业品': ['rb',\n",
       "              'i',\n",
       "              'hc',\n",
       "              'wr',\n",
       "              'SM',\n",
       "              'SF',\n",
       "              'cu',\n",
       "              'al',\n",
       "              'ni',\n",
       "              'zn',\n",
       "              'pb',\n",
       "              'sn',\n",
       "              'ru',\n",
       "              'j',\n",
       "              'sc',\n",
       "              'ZC',\n",
       "              'l',\n",
       "              'TA',\n",
       "              'jm',\n",
       "              'pp',\n",
       "              'FG',\n",
       "              'bu',\n",
       "              'v',\n",
       "              'MA',\n",
       "              'fu'],\n",
       "             '农产品': ['m',\n",
       "              'SR',\n",
       "              'y',\n",
       "              'p',\n",
       "              'a',\n",
       "              'b',\n",
       "              'c',\n",
       "              'CF',\n",
       "              'OI',\n",
       "              'jd',\n",
       "              'cs',\n",
       "              'RS',\n",
       "              'RM',\n",
       "              'RI',\n",
       "              'LR',\n",
       "              'WH',\n",
       "              'JR',\n",
       "              'PM',\n",
       "              'AP',\n",
       "              'CY']})"
      ]
     },
     "execution_count": 22,
     "metadata": {},
     "output_type": "execute_result"
    }
   ],
   "source": [
    "modify_code(Nanhua_first_industry_symbol_map)"
   ]
  },
  {
   "cell_type": "code",
   "execution_count": 23,
   "id": "developing-reviewer",
   "metadata": {},
   "outputs": [
    {
     "data": {
      "text/plain": [
       "defaultdict(list,\n",
       "            {'贵金属': ['au', 'ag'],\n",
       "             '有色金属': ['cu', 'al', 'pb', 'zn', 'ni', 'sn'],\n",
       "             '黑色产业': ['rb', 'i', 'jm', 'j', 'hc', 'wr', 'SM', 'SF'],\n",
       "             '黑色原材料': ['i', 'jm', 'j', 'SM', 'SF'],\n",
       "             '油脂油料': ['a', 'b', 'm', 'OI', 'p', 'RM', 'RS'],\n",
       "             '煤炭': ['ZC', 'jm', 'j'],\n",
       "             '建材': ['FG', 'rb', 'v', 'bb', 'fb'],\n",
       "             '棉花糖': ['CF', 'SR']})"
      ]
     },
     "execution_count": 23,
     "metadata": {},
     "output_type": "execute_result"
    }
   ],
   "source": [
    "modify_code(Nanhua_second_industry_symbol_map)"
   ]
  },
  {
   "cell_type": "code",
   "execution_count": 24,
   "id": "geographic-wrapping",
   "metadata": {},
   "outputs": [
    {
     "data": {
      "text/plain": [
       "defaultdict(list,\n",
       "            {'谷物': ['a', 'c', 'RI', 'JR', 'LR', 'PM', 'rr', 'WH', 'WT'],\n",
       "             '贵金属': ['ag', 'au'],\n",
       "             '有色': ['al', 'cu', 'ni', 'pb', 'sn', 'zn'],\n",
       "             '农产品': ['AP', 'CJ', 'cs', 'jd'],\n",
       "             '油脂': ['b', 'm', 'OI', 'p', 'RM', 'RS', 'y'],\n",
       "             '建材': ['bb', 'fb', 'FG', 'v'],\n",
       "             '化工': ['bu',\n",
       "              'eb',\n",
       "              'eg',\n",
       "              'l',\n",
       "              'MA',\n",
       "              'nr',\n",
       "              'pp',\n",
       "              'ru',\n",
       "              'sp',\n",
       "              'TA',\n",
       "              'UR'],\n",
       "             '软商品': ['CF', 'CY', 'SR'],\n",
       "             '能源': ['fu', 'sc', 'ZC'],\n",
       "             '焦煤钢矿': ['hc', 'i', 'j', 'jm', 'rb', 'SF', 'SM', 'ss', 'wr'],\n",
       "             '股指': ['ic', 'if', 'ih'],\n",
       "             '未知': ['lu', 'pg', 'SA', 'PF', 'bc'],\n",
       "             '国债': ['t', 'tf', 'ts']})"
      ]
     },
     "execution_count": 24,
     "metadata": {},
     "output_type": "execute_result"
    }
   ],
   "source": [
    "modify_code(RQ_industry_symbol_map)"
   ]
  },
  {
   "cell_type": "code",
   "execution_count": null,
   "id": "geological-estate",
   "metadata": {},
   "outputs": [],
   "source": []
  }
 ],
 "metadata": {
  "kernelspec": {
   "display_name": "Python 3",
   "language": "python",
   "name": "python3"
  },
  "language_info": {
   "codemirror_mode": {
    "name": "ipython",
    "version": 3
   },
   "file_extension": ".py",
   "mimetype": "text/x-python",
   "name": "python",
   "nbconvert_exporter": "python",
   "pygments_lexer": "ipython3",
   "version": "3.7.8rc1"
  }
 },
 "nbformat": 4,
 "nbformat_minor": 5
}
