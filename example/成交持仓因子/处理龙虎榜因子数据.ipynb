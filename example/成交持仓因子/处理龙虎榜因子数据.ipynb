{
 "cells": [
  {
   "cell_type": "markdown",
   "id": "smart-syndication",
   "metadata": {},
   "source": [
    "# Import Packages"
   ]
  },
  {
   "cell_type": "code",
   "execution_count": 1,
   "id": "opened-stake",
   "metadata": {},
   "outputs": [],
   "source": [
    "import os\n",
    "import pandas as pd\n",
    "from pathlib import Path\n",
    "os.chdir(Path(os.getcwd()).parent.parent)"
   ]
  },
  {
   "cell_type": "code",
   "execution_count": 2,
   "id": "delayed-sequence",
   "metadata": {},
   "outputs": [
    {
     "data": {
      "text/plain": [
       "'D:\\\\LFProjects\\\\NewPythonProject'"
      ]
     },
     "execution_count": 2,
     "metadata": {},
     "output_type": "execute_result"
    }
   ],
   "source": [
    "os.getcwd()"
   ]
  },
  {
   "cell_type": "markdown",
   "id": "immediate-centre",
   "metadata": {},
   "source": [
    "# Load Data"
   ]
  },
  {
   "cell_type": "code",
   "execution_count": 3,
   "id": "religious-organ",
   "metadata": {},
   "outputs": [],
   "source": [
    "data_long = pd.read_pickle(\"D:/LFProjects/NewPythonProject/data/trade_hold/原始数据/trade_hold_long.pkl\")\n",
    "data_short = pd.read_pickle(\"D:/LFProjects/NewPythonProject/data/trade_hold/原始数据/trade_hold_short.pkl\")\n",
    "data_volume = pd.read_pickle(\"D:/LFProjects/NewPythonProject/data/trade_hold/原始数据/trade_hold_volume.pkl\")"
   ]
  },
  {
   "cell_type": "markdown",
   "id": "pacific-petite",
   "metadata": {},
   "source": [
    "## Preprocess Data\n",
    "1.Add underlying_symbol。\\\n",
    "2.change the column trading_date into datetime。"
   ]
  },
  {
   "cell_type": "code",
   "execution_count": 4,
   "id": "spoken-stanford",
   "metadata": {},
   "outputs": [],
   "source": [
    "data_long['underlying_symbol'] = data_long['commodity_id'].str.extract(\"([A-Z]*)\")\n",
    "data_short['underlying_symbol'] = data_short['commodity_id'].str.extract(\"([A-Z]*)\")\n",
    "data_volume['underlying_symbol'] = data_volume['commodity_id'].str.extract(\"([A-Z]*)\")"
   ]
  },
  {
   "cell_type": "code",
   "execution_count": 5,
   "id": "rapid-serve",
   "metadata": {},
   "outputs": [],
   "source": [
    "data_long.rename(columns={'trading_date': 'datetime'}, inplace=True)\n",
    "data_short.rename(columns={'trading_date': 'datetime'}, inplace=True)\n",
    "data_volume.rename(columns={\"trading_date\": 'datetime'}, inplace=True)"
   ]
  },
  {
   "cell_type": "code",
   "execution_count": 6,
   "id": "stainless-passenger",
   "metadata": {},
   "outputs": [
    {
     "data": {
      "text/html": [
       "<div>\n",
       "<style scoped>\n",
       "    .dataframe tbody tr th:only-of-type {\n",
       "        vertical-align: middle;\n",
       "    }\n",
       "\n",
       "    .dataframe tbody tr th {\n",
       "        vertical-align: top;\n",
       "    }\n",
       "\n",
       "    .dataframe thead th {\n",
       "        text-align: right;\n",
       "    }\n",
       "</style>\n",
       "<table border=\"1\" class=\"dataframe\">\n",
       "  <thead>\n",
       "    <tr style=\"text-align: right;\">\n",
       "      <th></th>\n",
       "      <th>datetime</th>\n",
       "      <th>volume</th>\n",
       "      <th>volume_change</th>\n",
       "      <th>member_name</th>\n",
       "      <th>rank</th>\n",
       "      <th>commodity_id</th>\n",
       "      <th>rank_by</th>\n",
       "      <th>exchange</th>\n",
       "      <th>underlying_symbol</th>\n",
       "    </tr>\n",
       "  </thead>\n",
       "  <tbody>\n",
       "    <tr>\n",
       "      <th>5434387</th>\n",
       "      <td>2009-07-01</td>\n",
       "      <td>175</td>\n",
       "      <td>1</td>\n",
       "      <td>路易达孚</td>\n",
       "      <td>1</td>\n",
       "      <td>A0907</td>\n",
       "      <td>long</td>\n",
       "      <td>DCE</td>\n",
       "      <td>A</td>\n",
       "    </tr>\n",
       "    <tr>\n",
       "      <th>5434388</th>\n",
       "      <td>2009-07-01</td>\n",
       "      <td>47</td>\n",
       "      <td>-13</td>\n",
       "      <td>北京中期</td>\n",
       "      <td>2</td>\n",
       "      <td>A0907</td>\n",
       "      <td>long</td>\n",
       "      <td>DCE</td>\n",
       "      <td>A</td>\n",
       "    </tr>\n",
       "    <tr>\n",
       "      <th>5434389</th>\n",
       "      <td>2009-07-01</td>\n",
       "      <td>43</td>\n",
       "      <td>2</td>\n",
       "      <td>中晟期货</td>\n",
       "      <td>3</td>\n",
       "      <td>A0907</td>\n",
       "      <td>long</td>\n",
       "      <td>DCE</td>\n",
       "      <td>A</td>\n",
       "    </tr>\n",
       "    <tr>\n",
       "      <th>5434390</th>\n",
       "      <td>2009-07-01</td>\n",
       "      <td>6</td>\n",
       "      <td>1</td>\n",
       "      <td>渤海期货</td>\n",
       "      <td>4</td>\n",
       "      <td>A0907</td>\n",
       "      <td>long</td>\n",
       "      <td>DCE</td>\n",
       "      <td>A</td>\n",
       "    </tr>\n",
       "    <tr>\n",
       "      <th>5434391</th>\n",
       "      <td>2009-07-02</td>\n",
       "      <td>175</td>\n",
       "      <td>0</td>\n",
       "      <td>路易达孚</td>\n",
       "      <td>1</td>\n",
       "      <td>A0907</td>\n",
       "      <td>long</td>\n",
       "      <td>DCE</td>\n",
       "      <td>A</td>\n",
       "    </tr>\n",
       "  </tbody>\n",
       "</table>\n",
       "</div>"
      ],
      "text/plain": [
       "          datetime  volume  volume_change member_name  rank commodity_id  \\\n",
       "5434387 2009-07-01     175              1        路易达孚     1        A0907   \n",
       "5434388 2009-07-01      47            -13        北京中期     2        A0907   \n",
       "5434389 2009-07-01      43              2        中晟期货     3        A0907   \n",
       "5434390 2009-07-01       6              1        渤海期货     4        A0907   \n",
       "5434391 2009-07-02     175              0        路易达孚     1        A0907   \n",
       "\n",
       "        rank_by exchange underlying_symbol  \n",
       "5434387    long      DCE                 A  \n",
       "5434388    long      DCE                 A  \n",
       "5434389    long      DCE                 A  \n",
       "5434390    long      DCE                 A  \n",
       "5434391    long      DCE                 A  "
      ]
     },
     "execution_count": 6,
     "metadata": {},
     "output_type": "execute_result"
    }
   ],
   "source": [
    "data_long.head()"
   ]
  },
  {
   "cell_type": "markdown",
   "id": "blessed-migration",
   "metadata": {},
   "source": [
    "# 测试数据\n",
    "\n",
    "通过验证数据中是否同时存在：\\\n",
    "1.以合约为单位的数据（commodity_id字段为合约）\\\n",
    "2.以品种为单位的数据（commodity_id字段为品种）\\\n",
    "导致在聚合时数据被重复相加，导致部分品种的成员持仓总和大于open interest。\n",
    "\n",
    "方法：检测每个交易日每个品种commodity_id=underlying_symbol的行数占总行数的比例，既以品种为单位的数据的占比。"
   ]
  },
  {
   "cell_type": "code",
   "execution_count": 7,
   "id": "promising-restriction",
   "metadata": {},
   "outputs": [],
   "source": [
    "data_long['tag'] = data_long['commodity_id'] == data_long['underlying_symbol']\n",
    "check_long_df = data_long.copy()\n",
    "check_long_df['pct'] = data_long.groupby(['datetime', 'underlying_symbol', 'exchange'])['tag'].transform(lambda x: x.sum()/len(x))"
   ]
  },
  {
   "cell_type": "code",
   "execution_count": 8,
   "id": "superior-pathology",
   "metadata": {},
   "outputs": [],
   "source": [
    "data_short['tag'] = data_short['commodity_id'] == data_short['underlying_symbol']\n",
    "check_short_df = data_short.copy()\n",
    "check_short_df['pct'] = data_short.groupby(['datetime', 'underlying_symbol', 'exchange'])['tag'].transform(lambda x: x.sum()/len(x))"
   ]
  },
  {
   "cell_type": "code",
   "execution_count": 9,
   "id": "dental-lincoln",
   "metadata": {},
   "outputs": [],
   "source": [
    "data_volume['tag'] = data_volume['commodity_id'] == data_volume['underlying_symbol']\n",
    "check_volume_df = data_volume.copy()\n",
    "check_volume_df['pct'] = data_volume.groupby(['datetime', 'underlying_symbol', 'exchange'])['tag'].transform(lambda x: x.sum()/len(x))"
   ]
  },
  {
   "cell_type": "markdown",
   "id": "banned-steel",
   "metadata": {},
   "source": [
    "## 验证是否异常数据全部来自某一个交易所"
   ]
  },
  {
   "cell_type": "code",
   "execution_count": 10,
   "id": "saving-norwegian",
   "metadata": {},
   "outputs": [
    {
     "data": {
      "text/plain": [
       "CZCE    1824341\n",
       "Name: exchange, dtype: int64"
      ]
     },
     "execution_count": 10,
     "metadata": {},
     "output_type": "execute_result"
    }
   ],
   "source": [
    "check_long_df[(check_long_df['pct'] > 0.0) & (check_long_df['pct'] < 1.0)].exchange.value_counts()"
   ]
  },
  {
   "cell_type": "code",
   "execution_count": 11,
   "id": "fresh-classics",
   "metadata": {},
   "outputs": [
    {
     "data": {
      "text/plain": [
       "CZCE    1801912\n",
       "Name: exchange, dtype: int64"
      ]
     },
     "execution_count": 11,
     "metadata": {},
     "output_type": "execute_result"
    }
   ],
   "source": [
    "check_short_df[(check_short_df['pct'] > 0.0) & (check_short_df['pct'] < 1.0)].exchange.value_counts()"
   ]
  },
  {
   "cell_type": "code",
   "execution_count": 12,
   "id": "aerial-olympus",
   "metadata": {},
   "outputs": [
    {
     "data": {
      "text/plain": [
       "CZCE    1746128\n",
       "Name: exchange, dtype: int64"
      ]
     },
     "execution_count": 12,
     "metadata": {},
     "output_type": "execute_result"
    }
   ],
   "source": [
    "check_volume_df[(check_volume_df['pct'] > 0.0) & (check_volume_df['pct'] < 1.0)].exchange.value_counts()"
   ]
  },
  {
   "cell_type": "markdown",
   "id": "liked-drama",
   "metadata": {},
   "source": [
    "结论：异常数据确实全部来自郑商所的数据。"
   ]
  },
  {
   "cell_type": "markdown",
   "id": "induced-float",
   "metadata": {},
   "source": [
    "# 解决方案\n",
    "保留（以单日单品种数据为单位）：\\\n",
    "1.所有数据以合约为单位。\\\n",
    "2.所有数据以品种为单位。\\\n",
    "3.对于同时存在以品种为单位和以合约为单位的数据，仅保留以品种为单位的数据。"
   ]
  },
  {
   "cell_type": "code",
   "execution_count": 13,
   "id": "danish-stone",
   "metadata": {},
   "outputs": [],
   "source": [
    "check_long_df = check_long_df[(check_long_df['pct']==0.0)|(check_long_df['pct']==1.0)|((check_long_df['pct']>0.0)&(check_long_df['pct']<1.0)&(check_long_df['tag']))]\n",
    "check_short_df = check_short_df[(check_short_df['pct']==0.0)|(check_short_df['pct']==1.0)|((check_short_df['pct']>0.0)&(check_short_df['pct']<1.0)&(check_short_df['tag']))]\n",
    "check_volume_df = check_volume_df[(check_volume_df['pct']==0.0)|(check_volume_df['pct']==1.0)|((check_volume_df['pct']>0.0)&(check_volume_df['pct']<1.0)&(check_volume_df['tag']))]"
   ]
  },
  {
   "cell_type": "markdown",
   "id": "antique-original",
   "metadata": {},
   "source": [
    "# 检查数据\n",
    "\n",
    "检查数据的方式检查是否存在聚合每日成交持仓数据会不会大于品种当日的open_interest"
   ]
  },
  {
   "cell_type": "code",
   "execution_count": 14,
   "id": "variable-ready",
   "metadata": {},
   "outputs": [],
   "source": [
    "from data_manager.DailyDataManager import DailyDataManager\n",
    "daily_data = DailyDataManager().get_daily_data()"
   ]
  },
  {
   "cell_type": "code",
   "execution_count": 15,
   "id": "ethical-scholar",
   "metadata": {},
   "outputs": [
    {
     "data": {
      "text/html": [
       "<div>\n",
       "<style scoped>\n",
       "    .dataframe tbody tr th:only-of-type {\n",
       "        vertical-align: middle;\n",
       "    }\n",
       "\n",
       "    .dataframe tbody tr th {\n",
       "        vertical-align: top;\n",
       "    }\n",
       "\n",
       "    .dataframe thead th {\n",
       "        text-align: right;\n",
       "    }\n",
       "</style>\n",
       "<table border=\"1\" class=\"dataframe\">\n",
       "  <thead>\n",
       "    <tr style=\"text-align: right;\">\n",
       "      <th></th>\n",
       "      <th>contract</th>\n",
       "      <th>datetime</th>\n",
       "      <th>settlement</th>\n",
       "      <th>upper_limit</th>\n",
       "      <th>high</th>\n",
       "      <th>lower_limit</th>\n",
       "      <th>open</th>\n",
       "      <th>open_interest</th>\n",
       "      <th>volume</th>\n",
       "      <th>low</th>\n",
       "      <th>turnover</th>\n",
       "      <th>close</th>\n",
       "      <th>prev_settlement</th>\n",
       "      <th>underlying_symbol</th>\n",
       "    </tr>\n",
       "  </thead>\n",
       "  <tbody>\n",
       "    <tr>\n",
       "      <th>0</th>\n",
       "      <td>A0901</td>\n",
       "      <td>2009-01-05</td>\n",
       "      <td>3696.0</td>\n",
       "      <td>3920.0</td>\n",
       "      <td>3736.0</td>\n",
       "      <td>3478.0</td>\n",
       "      <td>3736.0</td>\n",
       "      <td>2956.0</td>\n",
       "      <td>248.0</td>\n",
       "      <td>3560.0</td>\n",
       "      <td>9168100.0</td>\n",
       "      <td>3660.0</td>\n",
       "      <td>3699.0</td>\n",
       "      <td>A</td>\n",
       "    </tr>\n",
       "    <tr>\n",
       "      <th>1</th>\n",
       "      <td>A0901</td>\n",
       "      <td>2009-01-06</td>\n",
       "      <td>3586.0</td>\n",
       "      <td>3917.0</td>\n",
       "      <td>3679.0</td>\n",
       "      <td>3475.0</td>\n",
       "      <td>3583.0</td>\n",
       "      <td>2956.0</td>\n",
       "      <td>72.0</td>\n",
       "      <td>3580.0</td>\n",
       "      <td>2582200.0</td>\n",
       "      <td>3679.0</td>\n",
       "      <td>3696.0</td>\n",
       "      <td>A</td>\n",
       "    </tr>\n",
       "    <tr>\n",
       "      <th>2</th>\n",
       "      <td>A0901</td>\n",
       "      <td>2009-01-07</td>\n",
       "      <td>3599.0</td>\n",
       "      <td>3801.0</td>\n",
       "      <td>3600.0</td>\n",
       "      <td>3371.0</td>\n",
       "      <td>3600.0</td>\n",
       "      <td>2956.0</td>\n",
       "      <td>248.0</td>\n",
       "      <td>3599.0</td>\n",
       "      <td>8926300.0</td>\n",
       "      <td>3599.0</td>\n",
       "      <td>3586.0</td>\n",
       "      <td>A</td>\n",
       "    </tr>\n",
       "    <tr>\n",
       "      <th>3</th>\n",
       "      <td>A0901</td>\n",
       "      <td>2009-01-08</td>\n",
       "      <td>3599.0</td>\n",
       "      <td>3814.0</td>\n",
       "      <td>3600.0</td>\n",
       "      <td>3384.0</td>\n",
       "      <td>3599.0</td>\n",
       "      <td>2956.0</td>\n",
       "      <td>72.0</td>\n",
       "      <td>3599.0</td>\n",
       "      <td>2591900.0</td>\n",
       "      <td>3600.0</td>\n",
       "      <td>3599.0</td>\n",
       "      <td>A</td>\n",
       "    </tr>\n",
       "    <tr>\n",
       "      <th>4</th>\n",
       "      <td>A0901</td>\n",
       "      <td>2009-01-09</td>\n",
       "      <td>3599.0</td>\n",
       "      <td>3814.0</td>\n",
       "      <td>3600.0</td>\n",
       "      <td>3384.0</td>\n",
       "      <td>3600.0</td>\n",
       "      <td>2806.0</td>\n",
       "      <td>44.0</td>\n",
       "      <td>3599.0</td>\n",
       "      <td>1584000.0</td>\n",
       "      <td>3600.0</td>\n",
       "      <td>3599.0</td>\n",
       "      <td>A</td>\n",
       "    </tr>\n",
       "  </tbody>\n",
       "</table>\n",
       "</div>"
      ],
      "text/plain": [
       "  contract   datetime  settlement  upper_limit    high  lower_limit    open  \\\n",
       "0    A0901 2009-01-05      3696.0       3920.0  3736.0       3478.0  3736.0   \n",
       "1    A0901 2009-01-06      3586.0       3917.0  3679.0       3475.0  3583.0   \n",
       "2    A0901 2009-01-07      3599.0       3801.0  3600.0       3371.0  3600.0   \n",
       "3    A0901 2009-01-08      3599.0       3814.0  3600.0       3384.0  3599.0   \n",
       "4    A0901 2009-01-09      3599.0       3814.0  3600.0       3384.0  3600.0   \n",
       "\n",
       "   open_interest  volume     low   turnover   close  prev_settlement  \\\n",
       "0         2956.0   248.0  3560.0  9168100.0  3660.0           3699.0   \n",
       "1         2956.0    72.0  3580.0  2582200.0  3679.0           3696.0   \n",
       "2         2956.0   248.0  3599.0  8926300.0  3599.0           3586.0   \n",
       "3         2956.0    72.0  3599.0  2591900.0  3600.0           3599.0   \n",
       "4         2806.0    44.0  3599.0  1584000.0  3600.0           3599.0   \n",
       "\n",
       "  underlying_symbol  \n",
       "0                 A  \n",
       "1                 A  \n",
       "2                 A  \n",
       "3                 A  \n",
       "4                 A  "
      ]
     },
     "execution_count": 15,
     "metadata": {},
     "output_type": "execute_result"
    }
   ],
   "source": [
    "daily_data.head()"
   ]
  },
  {
   "cell_type": "code",
   "execution_count": 30,
   "id": "incoming-instrumentation",
   "metadata": {},
   "outputs": [],
   "source": [
    "open_interest = daily_data.groupby(['datetime', 'underlying_symbol'])['open_interest'].sum()"
   ]
  },
  {
   "cell_type": "code",
   "execution_count": 17,
   "id": "intelligent-chain",
   "metadata": {},
   "outputs": [],
   "source": [
    "volume = daily_data.groupby(['datetime', 'underlying_symbol'])['volume'].sum()"
   ]
  },
  {
   "cell_type": "code",
   "execution_count": 18,
   "id": "vulnerable-concord",
   "metadata": {},
   "outputs": [
    {
     "data": {
      "text/plain": [
       "datetime    underlying_symbol\n",
       "2020-06-09  LR                   1.0\n",
       "2021-01-12  RS                   1.0\n",
       "2020-04-09  LR                   1.0\n",
       "2020-11-24  RS                   1.0\n",
       "2020-02-05  WH                   1.0\n",
       "                                ... \n",
       "2021-02-26  WH                   NaN\n",
       "            WR                   NaN\n",
       "            Y                    NaN\n",
       "            ZC                   NaN\n",
       "            ZN                   NaN\n",
       "Length: 129218, dtype: float64"
      ]
     },
     "execution_count": 18,
     "metadata": {},
     "output_type": "execute_result"
    }
   ],
   "source": [
    "(check_long_df.groupby(by=['datetime', 'underlying_symbol'], as_index=True)['volume'].sum()/open_interest).sort_values(ascending=False)"
   ]
  },
  {
   "cell_type": "code",
   "execution_count": 19,
   "id": "complicated-silence",
   "metadata": {},
   "outputs": [
    {
     "data": {
      "text/plain": [
       "datetime    underlying_symbol\n",
       "2020-04-09  LR                   1.0\n",
       "2020-10-16  RS                   1.0\n",
       "2020-03-27  WH                   1.0\n",
       "2020-08-21  LR                   1.0\n",
       "2020-10-16  WH                   1.0\n",
       "                                ... \n",
       "2021-02-26  WH                   NaN\n",
       "            WR                   NaN\n",
       "            Y                    NaN\n",
       "            ZC                   NaN\n",
       "            ZN                   NaN\n",
       "Length: 129218, dtype: float64"
      ]
     },
     "execution_count": 19,
     "metadata": {},
     "output_type": "execute_result"
    }
   ],
   "source": [
    "(check_short_df.groupby(by=['datetime', 'underlying_symbol'], as_index=True)['volume'].sum()/open_interest).sort_values(ascending=False)"
   ]
  },
  {
   "cell_type": "markdown",
   "id": "vocal-productivity",
   "metadata": {},
   "source": [
    "结论：没有数据大于1.0，说明数据清洗完毕。"
   ]
  },
  {
   "cell_type": "markdown",
   "id": "pursuant-dialogue",
   "metadata": {},
   "source": [
    "# 保存数据"
   ]
  },
  {
   "cell_type": "code",
   "execution_count": 20,
   "id": "electronic-trading",
   "metadata": {},
   "outputs": [],
   "source": [
    "check_long_df.to_pickle(\"D:/LFProjects/NewPythonProject/data/trade_hold/trade_hold_long.pkl\")\n",
    "check_short_df.to_pickle(\"D:/LFProjects/NewPythonProject/data/trade_hold/trade_hold_short.pkl\")\n",
    "check_volume_df.to_pickle(\"D:/LFProjects/NewPythonProject/data/trade_hold/trade_hold_volume.pkl\")"
   ]
  },
  {
   "cell_type": "code",
   "execution_count": 21,
   "id": "turned-northeast",
   "metadata": {},
   "outputs": [
    {
     "data": {
      "text/plain": [
       "(6459603, 10)"
      ]
     },
     "execution_count": 21,
     "metadata": {},
     "output_type": "execute_result"
    }
   ],
   "source": [
    "data_long.shape"
   ]
  },
  {
   "cell_type": "code",
   "execution_count": 22,
   "id": "mysterious-merit",
   "metadata": {},
   "outputs": [
    {
     "data": {
      "text/plain": [
       "(5185919, 11)"
      ]
     },
     "execution_count": 22,
     "metadata": {},
     "output_type": "execute_result"
    }
   ],
   "source": [
    "check_long_df.shape"
   ]
  },
  {
   "cell_type": "code",
   "execution_count": 32,
   "id": "convenient-machinery",
   "metadata": {},
   "outputs": [
    {
     "data": {
      "text/plain": [
       "(5185919, 11)"
      ]
     },
     "execution_count": 32,
     "metadata": {},
     "output_type": "execute_result"
    }
   ],
   "source": [
    "from data_manager.TradeHoldDataManager import TradeHoldDataManager\n",
    "self = TradeHoldDataManager()\n",
    "a = self.get_trade_hold_data_by_rank(rank_by='long',group_by_symbol=False)\n",
    "a.shape"
   ]
  },
  {
   "cell_type": "code",
   "execution_count": 33,
   "id": "incident-sound",
   "metadata": {},
   "outputs": [
    {
     "data": {
      "text/html": [
       "<div>\n",
       "<style scoped>\n",
       "    .dataframe tbody tr th:only-of-type {\n",
       "        vertical-align: middle;\n",
       "    }\n",
       "\n",
       "    .dataframe tbody tr th {\n",
       "        vertical-align: top;\n",
       "    }\n",
       "\n",
       "    .dataframe thead th {\n",
       "        text-align: right;\n",
       "    }\n",
       "</style>\n",
       "<table border=\"1\" class=\"dataframe\">\n",
       "  <thead>\n",
       "    <tr style=\"text-align: right;\">\n",
       "      <th></th>\n",
       "      <th>datetime</th>\n",
       "      <th>volume</th>\n",
       "      <th>volume_change</th>\n",
       "      <th>member_name</th>\n",
       "      <th>rank</th>\n",
       "      <th>commodity_id</th>\n",
       "      <th>rank_by</th>\n",
       "      <th>exchange</th>\n",
       "      <th>underlying_symbol</th>\n",
       "      <th>tag</th>\n",
       "      <th>pct</th>\n",
       "    </tr>\n",
       "  </thead>\n",
       "  <tbody>\n",
       "    <tr>\n",
       "      <th>5434387</th>\n",
       "      <td>2009-07-01</td>\n",
       "      <td>175</td>\n",
       "      <td>1</td>\n",
       "      <td>路易达孚</td>\n",
       "      <td>1</td>\n",
       "      <td>A0907</td>\n",
       "      <td>long</td>\n",
       "      <td>DCE</td>\n",
       "      <td>A</td>\n",
       "      <td>False</td>\n",
       "      <td>0.0</td>\n",
       "    </tr>\n",
       "    <tr>\n",
       "      <th>5434388</th>\n",
       "      <td>2009-07-01</td>\n",
       "      <td>47</td>\n",
       "      <td>-13</td>\n",
       "      <td>北京中期</td>\n",
       "      <td>2</td>\n",
       "      <td>A0907</td>\n",
       "      <td>long</td>\n",
       "      <td>DCE</td>\n",
       "      <td>A</td>\n",
       "      <td>False</td>\n",
       "      <td>0.0</td>\n",
       "    </tr>\n",
       "    <tr>\n",
       "      <th>5434389</th>\n",
       "      <td>2009-07-01</td>\n",
       "      <td>43</td>\n",
       "      <td>2</td>\n",
       "      <td>中晟期货</td>\n",
       "      <td>3</td>\n",
       "      <td>A0907</td>\n",
       "      <td>long</td>\n",
       "      <td>DCE</td>\n",
       "      <td>A</td>\n",
       "      <td>False</td>\n",
       "      <td>0.0</td>\n",
       "    </tr>\n",
       "    <tr>\n",
       "      <th>5434390</th>\n",
       "      <td>2009-07-01</td>\n",
       "      <td>6</td>\n",
       "      <td>1</td>\n",
       "      <td>渤海期货</td>\n",
       "      <td>4</td>\n",
       "      <td>A0907</td>\n",
       "      <td>long</td>\n",
       "      <td>DCE</td>\n",
       "      <td>A</td>\n",
       "      <td>False</td>\n",
       "      <td>0.0</td>\n",
       "    </tr>\n",
       "    <tr>\n",
       "      <th>5434391</th>\n",
       "      <td>2009-07-02</td>\n",
       "      <td>175</td>\n",
       "      <td>0</td>\n",
       "      <td>路易达孚</td>\n",
       "      <td>1</td>\n",
       "      <td>A0907</td>\n",
       "      <td>long</td>\n",
       "      <td>DCE</td>\n",
       "      <td>A</td>\n",
       "      <td>False</td>\n",
       "      <td>0.0</td>\n",
       "    </tr>\n",
       "    <tr>\n",
       "      <th>...</th>\n",
       "      <td>...</td>\n",
       "      <td>...</td>\n",
       "      <td>...</td>\n",
       "      <td>...</td>\n",
       "      <td>...</td>\n",
       "      <td>...</td>\n",
       "      <td>...</td>\n",
       "      <td>...</td>\n",
       "      <td>...</td>\n",
       "      <td>...</td>\n",
       "      <td>...</td>\n",
       "    </tr>\n",
       "    <tr>\n",
       "      <th>1343633</th>\n",
       "      <td>2020-12-31</td>\n",
       "      <td>1816</td>\n",
       "      <td>554</td>\n",
       "      <td>五矿经易期货</td>\n",
       "      <td>16</td>\n",
       "      <td>PF</td>\n",
       "      <td>long</td>\n",
       "      <td>CZCE</td>\n",
       "      <td>PF</td>\n",
       "      <td>True</td>\n",
       "      <td>0.5</td>\n",
       "    </tr>\n",
       "    <tr>\n",
       "      <th>1343634</th>\n",
       "      <td>2020-12-31</td>\n",
       "      <td>1688</td>\n",
       "      <td>146</td>\n",
       "      <td>浙商期货</td>\n",
       "      <td>17</td>\n",
       "      <td>PF</td>\n",
       "      <td>long</td>\n",
       "      <td>CZCE</td>\n",
       "      <td>PF</td>\n",
       "      <td>True</td>\n",
       "      <td>0.5</td>\n",
       "    </tr>\n",
       "    <tr>\n",
       "      <th>1343635</th>\n",
       "      <td>2020-12-31</td>\n",
       "      <td>1616</td>\n",
       "      <td>276</td>\n",
       "      <td>中信建投</td>\n",
       "      <td>18</td>\n",
       "      <td>PF</td>\n",
       "      <td>long</td>\n",
       "      <td>CZCE</td>\n",
       "      <td>PF</td>\n",
       "      <td>True</td>\n",
       "      <td>0.5</td>\n",
       "    </tr>\n",
       "    <tr>\n",
       "      <th>1343636</th>\n",
       "      <td>2020-12-31</td>\n",
       "      <td>1594</td>\n",
       "      <td>1121</td>\n",
       "      <td>国联期货</td>\n",
       "      <td>19</td>\n",
       "      <td>PF</td>\n",
       "      <td>long</td>\n",
       "      <td>CZCE</td>\n",
       "      <td>PF</td>\n",
       "      <td>True</td>\n",
       "      <td>0.5</td>\n",
       "    </tr>\n",
       "    <tr>\n",
       "      <th>1343637</th>\n",
       "      <td>2020-12-31</td>\n",
       "      <td>1591</td>\n",
       "      <td>413</td>\n",
       "      <td>光大期货</td>\n",
       "      <td>20</td>\n",
       "      <td>PF</td>\n",
       "      <td>long</td>\n",
       "      <td>CZCE</td>\n",
       "      <td>PF</td>\n",
       "      <td>True</td>\n",
       "      <td>0.5</td>\n",
       "    </tr>\n",
       "  </tbody>\n",
       "</table>\n",
       "<p>5185919 rows × 11 columns</p>\n",
       "</div>"
      ],
      "text/plain": [
       "          datetime  volume  volume_change member_name  rank commodity_id  \\\n",
       "5434387 2009-07-01     175              1        路易达孚     1        A0907   \n",
       "5434388 2009-07-01      47            -13        北京中期     2        A0907   \n",
       "5434389 2009-07-01      43              2        中晟期货     3        A0907   \n",
       "5434390 2009-07-01       6              1        渤海期货     4        A0907   \n",
       "5434391 2009-07-02     175              0        路易达孚     1        A0907   \n",
       "...            ...     ...            ...         ...   ...          ...   \n",
       "1343633 2020-12-31    1816            554      五矿经易期货    16           PF   \n",
       "1343634 2020-12-31    1688            146        浙商期货    17           PF   \n",
       "1343635 2020-12-31    1616            276        中信建投    18           PF   \n",
       "1343636 2020-12-31    1594           1121        国联期货    19           PF   \n",
       "1343637 2020-12-31    1591            413        光大期货    20           PF   \n",
       "\n",
       "        rank_by exchange underlying_symbol    tag  pct  \n",
       "5434387    long      DCE                 A  False  0.0  \n",
       "5434388    long      DCE                 A  False  0.0  \n",
       "5434389    long      DCE                 A  False  0.0  \n",
       "5434390    long      DCE                 A  False  0.0  \n",
       "5434391    long      DCE                 A  False  0.0  \n",
       "...         ...      ...               ...    ...  ...  \n",
       "1343633    long     CZCE                PF   True  0.5  \n",
       "1343634    long     CZCE                PF   True  0.5  \n",
       "1343635    long     CZCE                PF   True  0.5  \n",
       "1343636    long     CZCE                PF   True  0.5  \n",
       "1343637    long     CZCE                PF   True  0.5  \n",
       "\n",
       "[5185919 rows x 11 columns]"
      ]
     },
     "execution_count": 33,
     "metadata": {},
     "output_type": "execute_result"
    }
   ],
   "source": [
    "a"
   ]
  },
  {
   "cell_type": "code",
   "execution_count": 34,
   "id": "perfect-paper",
   "metadata": {},
   "outputs": [],
   "source": [
    "long = a.groupby(by=['datetime', 'underlying_symbol'], as_index=True)['volume'].sum()"
   ]
  },
  {
   "cell_type": "code",
   "execution_count": 35,
   "id": "leading-career",
   "metadata": {},
   "outputs": [
    {
     "data": {
      "text/plain": [
       "datetime    underlying_symbol\n",
       "2009-07-01  A                    111043\n",
       "            C                    124448\n",
       "            CF                    14108\n",
       "            ER                     6408\n",
       "            L                     39407\n",
       "                                  ...  \n",
       "2021-02-19  UR                    77694\n",
       "            V                    263061\n",
       "            Y                    440056\n",
       "            ZC                   207139\n",
       "            ZN                   105556\n",
       "Name: volume, Length: 106879, dtype: int64"
      ]
     },
     "execution_count": 35,
     "metadata": {},
     "output_type": "execute_result"
    }
   ],
   "source": [
    "long"
   ]
  },
  {
   "cell_type": "code",
   "execution_count": 36,
   "id": "entertaining-citation",
   "metadata": {},
   "outputs": [
    {
     "data": {
      "text/plain": [
       "datetime    underlying_symbol\n",
       "2009-01-05  A                    393642.0\n",
       "            AL                   238578.0\n",
       "            AU                    51320.0\n",
       "            B                       162.0\n",
       "            C                    306878.0\n",
       "                                   ...   \n",
       "2021-02-26  WH                      865.0\n",
       "            WR                       70.0\n",
       "            Y                    701225.0\n",
       "            ZC                   344314.0\n",
       "            ZN                   143666.0\n",
       "Name: open_interest, Length: 125954, dtype: float64"
      ]
     },
     "execution_count": 36,
     "metadata": {},
     "output_type": "execute_result"
    }
   ],
   "source": [
    "open_interest"
   ]
  },
  {
   "cell_type": "code",
   "execution_count": 37,
   "id": "theoretical-trading",
   "metadata": {},
   "outputs": [],
   "source": [
    "common_index = long.index.intersection(open_interest.index)\n",
    "long = long.loc[common_index]\n",
    "open_interest = open_interest.loc[common_index]"
   ]
  },
  {
   "cell_type": "code",
   "execution_count": 39,
   "id": "prime-flashing",
   "metadata": {},
   "outputs": [],
   "source": [
    "factor = (long/open_interest).unstack(level=-1)"
   ]
  },
  {
   "cell_type": "code",
   "execution_count": 40,
   "id": "acting-active",
   "metadata": {},
   "outputs": [
    {
     "data": {
      "text/plain": [
       "1.0"
      ]
     },
     "execution_count": 40,
     "metadata": {},
     "output_type": "execute_result"
    }
   ],
   "source": [
    "factor.max().max()"
   ]
  },
  {
   "cell_type": "code",
   "execution_count": null,
   "id": "fallen-chance",
   "metadata": {},
   "outputs": [],
   "source": []
  }
 ],
 "metadata": {
  "kernelspec": {
   "display_name": "Python 3",
   "language": "python",
   "name": "python3"
  },
  "language_info": {
   "codemirror_mode": {
    "name": "ipython",
    "version": 3
   },
   "file_extension": ".py",
   "mimetype": "text/x-python",
   "name": "python",
   "nbconvert_exporter": "python",
   "pygments_lexer": "ipython3",
   "version": "3.7.8rc1"
  },
  "toc": {
   "base_numbering": 1,
   "nav_menu": {},
   "number_sections": true,
   "sideBar": true,
   "skip_h1_title": false,
   "title_cell": "Table of Contents",
   "title_sidebar": "Contents",
   "toc_cell": false,
   "toc_position": {},
   "toc_section_display": true,
   "toc_window_display": true
  },
  "varInspector": {
   "cols": {
    "lenName": 16,
    "lenType": 16,
    "lenVar": 40
   },
   "kernels_config": {
    "python": {
     "delete_cmd_postfix": "",
     "delete_cmd_prefix": "del ",
     "library": "var_list.py",
     "varRefreshCmd": "print(var_dic_list())"
    },
    "r": {
     "delete_cmd_postfix": ") ",
     "delete_cmd_prefix": "rm(",
     "library": "var_list.r",
     "varRefreshCmd": "cat(var_dic_list()) "
    }
   },
   "types_to_exclude": [
    "module",
    "function",
    "builtin_function_or_method",
    "instance",
    "_Feature"
   ],
   "window_display": true
  }
 },
 "nbformat": 4,
 "nbformat_minor": 5
}
