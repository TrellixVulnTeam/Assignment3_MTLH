{
 "cells": [
  {
   "cell_type": "markdown",
   "id": "precious-cleveland",
   "metadata": {},
   "source": [
    "# 导入库"
   ]
  },
  {
   "cell_type": "code",
   "execution_count": 1,
   "id": "practical-sister",
   "metadata": {
    "ExecuteTime": {
     "end_time": "2021-04-08T11:03:42.621349Z",
     "start_time": "2021-04-08T11:03:42.618173Z"
    }
   },
   "outputs": [],
   "source": [
    "import os\n",
    "from pathlib import Path\n",
    "os.chdir(Path(os.getcwd()).parent.parent)"
   ]
  },
  {
   "cell_type": "code",
   "execution_count": 2,
   "id": "hazardous-school",
   "metadata": {
    "ExecuteTime": {
     "end_time": "2021-04-08T11:03:43.092905Z",
     "start_time": "2021-04-08T11:03:43.079938Z"
    }
   },
   "outputs": [
    {
     "data": {
      "text/plain": [
       "'D:\\\\LFProjects\\\\NewPythonProject'"
      ]
     },
     "execution_count": 2,
     "metadata": {},
     "output_type": "execute_result"
    }
   ],
   "source": [
    "os.getcwd()"
   ]
  },
  {
   "cell_type": "code",
   "execution_count": 3,
   "id": "ignored-convention",
   "metadata": {
    "ExecuteTime": {
     "end_time": "2021-04-08T11:03:43.426552Z",
     "start_time": "2021-04-08T11:03:43.417037Z"
    }
   },
   "outputs": [],
   "source": [
    "from data_manager.IndustryDataManager import IndustryDataManager"
   ]
  },
  {
   "cell_type": "markdown",
   "id": "creative-animal",
   "metadata": {},
   "source": [
    "# 实例化IndustryDataManager"
   ]
  },
  {
   "cell_type": "code",
   "execution_count": 4,
   "id": "infectious-private",
   "metadata": {
    "ExecuteTime": {
     "end_time": "2021-04-08T11:03:43.883332Z",
     "start_time": "2021-04-08T11:03:43.872327Z"
    }
   },
   "outputs": [],
   "source": [
    "self = IndustryDataManager()"
   ]
  },
  {
   "cell_type": "markdown",
   "id": "solar-ferry",
   "metadata": {},
   "source": [
    "# 添加期货行业分类标准"
   ]
  },
  {
   "cell_type": "code",
   "execution_count": 5,
   "id": "quarterly-scholarship",
   "metadata": {
    "ExecuteTime": {
     "end_time": "2021-04-08T11:03:44.541805Z",
     "start_time": "2021-04-08T11:03:44.527574Z"
    }
   },
   "outputs": [],
   "source": [
    "industry_symbol_map = {'化工能源': ['V','L','PP','MA','RU','EB','EG','TA','BU','SC','FU','LU','NR','SA','FG','SP','UR','PG'],\n",
    "                        '黑色': ['JM', 'J', 'I', 'RB', 'HC', 'ZC', 'SF','SS','SM','WR'], \n",
    "                        '有色_贵金属': ['AL','PB','CU','ZN','SN','BC','AU','AG'],\n",
    "                       '油脂油料': ['OI','Y','P','A','B','M','RM','RS'],\n",
    "                       '农产品_软商品': ['WT','LH','PK','PM','RI','LR','JR','WH','CY','RR','CJ','C','AP','CS','JD','CF','SR','PF'],\n",
    "                       'Others': ['BB','FB']}"
   ]
  },
  {
   "cell_type": "code",
   "execution_count": 6,
   "id": "wound-locator",
   "metadata": {
    "ExecuteTime": {
     "end_time": "2021-04-08T11:03:44.968423Z",
     "start_time": "2021-04-08T11:03:44.959419Z"
    }
   },
   "outputs": [],
   "source": [
    "self.set_industry_symbol_map(group='actual_industry', name='actual_five_industry', industry_symbol_map=industry_symbol_map)"
   ]
  },
  {
   "cell_type": "markdown",
   "id": "attractive-worship",
   "metadata": {},
   "source": [
    "# 获取期货行业分类标准\n",
    "\n",
    "目前行业分类标准有：\n",
    "\n",
    "1.original_industry\\\n",
    "(1) Huatai_industry_map: 华泰行业分类\\\n",
    "(2) Nanhua_first_industry_map: 南华一级行业分类\\\n",
    "(3) Nanhua_second_industry_map: 南华二级行业分类\\\n",
    "(4) RQ_industry_map: RQData行业分类\\\n",
    "\n",
    "2.actual_industry\\\n",
    "(1) actual_industry_map: 根据相关性得出的初步行业分类\\\n",
    "(2) actual_five_industry_map: 五大行业最终版"
   ]
  },
  {
   "cell_type": "code",
   "execution_count": 8,
   "id": "behavioral-bread",
   "metadata": {
    "ExecuteTime": {
     "end_time": "2021-04-08T11:37:27.492976Z",
     "start_time": "2021-04-08T11:37:27.472240Z"
    }
   },
   "outputs": [
    {
     "data": {
      "text/plain": [
       "{'谷物': ['C', 'CS', 'JR', 'RI', 'LR', 'PM', 'WH'],\n",
       " '油脂油料': ['A', 'B', 'M', 'Y', 'P', 'OI', 'RM', 'RS'],\n",
       " '软商品': ['SR', 'CF'],\n",
       " '农副产品': ['JD'],\n",
       " '有色': ['CU', 'AL', 'ZN', 'PB', 'NI', 'SN'],\n",
       " '贵金属': ['AU', 'AG'],\n",
       " '煤焦钢矿': ['RB', 'HC', 'WR', 'I', 'SF', 'SM', 'JM', 'J'],\n",
       " '非金属建材': ['BB', 'FB', 'V', 'FG'],\n",
       " '能源': ['FU', 'ZC'],\n",
       " '化工': ['RU', 'TA', 'PP', 'L', 'BU', 'MA']}"
      ]
     },
     "execution_count": 8,
     "metadata": {},
     "output_type": "execute_result"
    }
   ],
   "source": [
    "self.get_industry_symbol_map(group='original_industry', name='Huatai_industry_map')"
   ]
  },
  {
   "cell_type": "code",
   "execution_count": 9,
   "id": "accredited-cleaning",
   "metadata": {
    "ExecuteTime": {
     "end_time": "2021-04-08T11:38:08.131142Z",
     "start_time": "2021-04-08T11:38:08.111167Z"
    }
   },
   "outputs": [
    {
     "data": {
      "text/plain": [
       "{'金属': ['RB', 'I', 'HC', 'WR', 'SM', 'SF', 'CU', 'AL', 'NI', 'ZN', 'PB', 'SN'],\n",
       " '能源化工': ['RU',\n",
       "  'J',\n",
       "  'SC',\n",
       "  'ZC',\n",
       "  'L',\n",
       "  'TA',\n",
       "  'JM',\n",
       "  'PP',\n",
       "  'FG',\n",
       "  'BU',\n",
       "  'V',\n",
       "  'MA',\n",
       "  'FU'],\n",
       " '工业品': ['RB',\n",
       "  'I',\n",
       "  'HC',\n",
       "  'WR',\n",
       "  'SM',\n",
       "  'SF',\n",
       "  'CU',\n",
       "  'AL',\n",
       "  'NI',\n",
       "  'ZN',\n",
       "  'PB',\n",
       "  'SN',\n",
       "  'RU',\n",
       "  'J',\n",
       "  'SC',\n",
       "  'ZC',\n",
       "  'L',\n",
       "  'TA',\n",
       "  'JM',\n",
       "  'PP',\n",
       "  'FG',\n",
       "  'BU',\n",
       "  'V',\n",
       "  'MA',\n",
       "  'FU'],\n",
       " '农产品': ['M',\n",
       "  'SR',\n",
       "  'Y',\n",
       "  'P',\n",
       "  'A',\n",
       "  'B',\n",
       "  'C',\n",
       "  'CF',\n",
       "  'OI',\n",
       "  'JD',\n",
       "  'CS',\n",
       "  'RS',\n",
       "  'RM',\n",
       "  'RI',\n",
       "  'LR',\n",
       "  'WH',\n",
       "  'JR',\n",
       "  'PM',\n",
       "  'AP',\n",
       "  'CY']}"
      ]
     },
     "execution_count": 9,
     "metadata": {},
     "output_type": "execute_result"
    }
   ],
   "source": [
    "self.get_industry_symbol_map(group='original_industry', name='Nanhua_first_industry_map')"
   ]
  },
  {
   "cell_type": "code",
   "execution_count": 10,
   "id": "solar-trash",
   "metadata": {
    "ExecuteTime": {
     "end_time": "2021-04-08T11:38:24.026194Z",
     "start_time": "2021-04-08T11:38:24.008158Z"
    }
   },
   "outputs": [
    {
     "data": {
      "text/plain": [
       "{'贵金属': ['AU', 'AG'],\n",
       " '有色金属': ['CU', 'AL', 'PB', 'ZN', 'NI', 'SN'],\n",
       " '黑色产业': ['RB', 'I', 'JM', 'J', 'HC', 'WR', 'SM', 'SF'],\n",
       " '黑色原材料': ['I', 'JM', 'J', 'SM', 'SF'],\n",
       " '油脂油料': ['A', 'B', 'M', 'OI', 'P', 'RM', 'RS'],\n",
       " '煤炭': ['ZC', 'JM', 'J'],\n",
       " '建材': ['FG', 'RB', 'V', 'BB', 'FB'],\n",
       " '棉花糖': ['CF', 'SR']}"
      ]
     },
     "execution_count": 10,
     "metadata": {},
     "output_type": "execute_result"
    }
   ],
   "source": [
    "self.get_industry_symbol_map(group='original_industry', name='Nanhua_second_industry_map')"
   ]
  },
  {
   "cell_type": "code",
   "execution_count": 11,
   "id": "coupled-peter",
   "metadata": {
    "ExecuteTime": {
     "end_time": "2021-04-08T11:39:01.113744Z",
     "start_time": "2021-04-08T11:39:01.104263Z"
    }
   },
   "outputs": [
    {
     "data": {
      "text/plain": [
       "{'谷物': ['A', 'C', 'RI', 'JR', 'LR', 'PM', 'RR', 'WH', 'WT'],\n",
       " '贵金属': ['AG', 'AU'],\n",
       " '有色': ['AL', 'CU', 'NI', 'PB', 'SN', 'ZN'],\n",
       " '农产品': ['AP', 'CJ', 'CS', 'JD'],\n",
       " '油脂': ['B', 'M', 'OI', 'P', 'RM', 'RS', 'Y'],\n",
       " '建材': ['BB', 'FB', 'FG', 'V'],\n",
       " '化工': ['BU', 'EB', 'EG', 'L', 'MA', 'NR', 'PP', 'RU', 'SP', 'TA', 'UR'],\n",
       " '软商品': ['CF', 'CY', 'SR'],\n",
       " '能源': ['FU', 'SC', 'ZC'],\n",
       " '焦煤钢矿': ['HC', 'I', 'J', 'JM', 'RB', 'SF', 'SM', 'SS', 'WR'],\n",
       " '股指': ['IC', 'IF', 'IH'],\n",
       " '未知': ['LU', 'PG', 'SA', 'PF', 'BC'],\n",
       " '国债': ['T', 'TF', 'TS']}"
      ]
     },
     "execution_count": 11,
     "metadata": {},
     "output_type": "execute_result"
    }
   ],
   "source": [
    "self.get_industry_symbol_map(group='original_industry', name='RQ_industry_map')"
   ]
  },
  {
   "cell_type": "code",
   "execution_count": 12,
   "id": "vital-crisis",
   "metadata": {
    "ExecuteTime": {
     "end_time": "2021-04-08T11:42:30.293037Z",
     "start_time": "2021-04-08T11:42:30.247496Z"
    }
   },
   "outputs": [
    {
     "data": {
      "text/plain": [
       "{'1': ['SC', 'FU', 'LU'],\n",
       " '2': ['BU', 'SC', 'FU', 'LU'],\n",
       " '3': ['TA', 'LU', 'SC'],\n",
       " '4': ['EB', 'FU', 'SC'],\n",
       " '5': ['MA', 'L', 'PP', 'RN', 'NR', 'EB', 'EG', 'TA', 'BU'],\n",
       " '6': ['L', 'PP'],\n",
       " '7': ['V', 'L', 'PP'],\n",
       " '8': ['V', 'MA', 'L', 'PP', 'RN', 'NR', 'EB', 'EG', 'TA', 'BU'],\n",
       " '9': ['FF', 'TA'],\n",
       " '10': ['PF', 'EG', 'BU'],\n",
       " '11': ['RN', 'NR'],\n",
       " '12': ['AL', 'PB', 'CU', 'ZN', 'NI', 'SN', 'BC'],\n",
       " '13': ['BC', 'SM'],\n",
       " '14': ['WH', 'BC'],\n",
       " '15': ['ZC', 'BC'],\n",
       " '16': ['ZN', 'RN'],\n",
       " '17': ['CU', 'L', 'RN'],\n",
       " '18': ['CU', 'L', 'V', 'PP', 'MA', 'BU', 'TA', 'EB', 'EG'],\n",
       " '19': ['CF', 'CY'],\n",
       " '20': ['CF', 'CY', 'NR'],\n",
       " '21': ['JM', 'J', 'I', 'RB', 'HC'],\n",
       " '22': ['C', 'CS'],\n",
       " '23': ['AU', 'AG'],\n",
       " '24': ['OI', 'Y', 'P', 'A', 'B', 'M', 'RM'],\n",
       " '25': ['OI', 'P', 'Y'],\n",
       " '26': ['RM', 'M']}"
      ]
     },
     "execution_count": 12,
     "metadata": {},
     "output_type": "execute_result"
    }
   ],
   "source": [
    "self.get_industry_symbol_map(group='actual_industry', name='actual_industry_map')"
   ]
  },
  {
   "cell_type": "code",
   "execution_count": 14,
   "id": "attractive-situation",
   "metadata": {
    "ExecuteTime": {
     "end_time": "2021-04-08T11:43:38.863415Z",
     "start_time": "2021-04-08T11:43:38.846460Z"
    }
   },
   "outputs": [
    {
     "data": {
      "text/plain": [
       "{'化工能源': ['V',\n",
       "  'L',\n",
       "  'PP',\n",
       "  'MA',\n",
       "  'RU',\n",
       "  'EB',\n",
       "  'EG',\n",
       "  'TA',\n",
       "  'BU',\n",
       "  'SC',\n",
       "  'FU',\n",
       "  'LU',\n",
       "  'NR',\n",
       "  'SA',\n",
       "  'FG',\n",
       "  'SP',\n",
       "  'UR',\n",
       "  'PG'],\n",
       " '黑色': ['JM', 'J', 'I', 'RB', 'HC', 'ZC', 'SF', 'SS', 'SM', 'WR'],\n",
       " '有色_贵金属': ['AL', 'PB', 'CU', 'ZN', 'SN', 'BC', 'AU', 'AG'],\n",
       " '油脂油料': ['OI', 'Y', 'P', 'A', 'B', 'M', 'RM', 'RS'],\n",
       " '农产品_软商品': ['WT',\n",
       "  'LH',\n",
       "  'PK',\n",
       "  'PM',\n",
       "  'RI',\n",
       "  'LR',\n",
       "  'JR',\n",
       "  'WH',\n",
       "  'CY',\n",
       "  'RR',\n",
       "  'CJ',\n",
       "  'C',\n",
       "  'AP',\n",
       "  'CS',\n",
       "  'JD',\n",
       "  'CF',\n",
       "  'SR',\n",
       "  'PF'],\n",
       " 'Others': ['BB', 'FB']}"
      ]
     },
     "execution_count": 14,
     "metadata": {},
     "output_type": "execute_result"
    }
   ],
   "source": [
    "self.get_industry_symbol_map(group='actual_industry', name='actual_five_industry')"
   ]
  },
  {
   "cell_type": "markdown",
   "id": "appreciated-nashville",
   "metadata": {},
   "source": [
    "# 获取所有行业分类标准"
   ]
  },
  {
   "cell_type": "code",
   "execution_count": 15,
   "id": "overall-wells",
   "metadata": {
    "ExecuteTime": {
     "end_time": "2021-04-08T11:45:11.068405Z",
     "start_time": "2021-04-08T11:45:11.046955Z"
    }
   },
   "outputs": [
    {
     "data": {
      "text/plain": [
       "{'original_industry_Huatai_industry_map': {'谷物': ['C',\n",
       "   'CS',\n",
       "   'JR',\n",
       "   'RI',\n",
       "   'LR',\n",
       "   'PM',\n",
       "   'WH'],\n",
       "  '油脂油料': ['A', 'B', 'M', 'Y', 'P', 'OI', 'RM', 'RS'],\n",
       "  '软商品': ['SR', 'CF'],\n",
       "  '农副产品': ['JD'],\n",
       "  '有色': ['CU', 'AL', 'ZN', 'PB', 'NI', 'SN'],\n",
       "  '贵金属': ['AU', 'AG'],\n",
       "  '煤焦钢矿': ['RB', 'HC', 'WR', 'I', 'SF', 'SM', 'JM', 'J'],\n",
       "  '非金属建材': ['BB', 'FB', 'V', 'FG'],\n",
       "  '能源': ['FU', 'ZC'],\n",
       "  '化工': ['RU', 'TA', 'PP', 'L', 'BU', 'MA']},\n",
       " 'original_industry_Nanhua_first_industry_map': {'金属': ['RB',\n",
       "   'I',\n",
       "   'HC',\n",
       "   'WR',\n",
       "   'SM',\n",
       "   'SF',\n",
       "   'CU',\n",
       "   'AL',\n",
       "   'NI',\n",
       "   'ZN',\n",
       "   'PB',\n",
       "   'SN'],\n",
       "  '能源化工': ['RU',\n",
       "   'J',\n",
       "   'SC',\n",
       "   'ZC',\n",
       "   'L',\n",
       "   'TA',\n",
       "   'JM',\n",
       "   'PP',\n",
       "   'FG',\n",
       "   'BU',\n",
       "   'V',\n",
       "   'MA',\n",
       "   'FU'],\n",
       "  '工业品': ['RB',\n",
       "   'I',\n",
       "   'HC',\n",
       "   'WR',\n",
       "   'SM',\n",
       "   'SF',\n",
       "   'CU',\n",
       "   'AL',\n",
       "   'NI',\n",
       "   'ZN',\n",
       "   'PB',\n",
       "   'SN',\n",
       "   'RU',\n",
       "   'J',\n",
       "   'SC',\n",
       "   'ZC',\n",
       "   'L',\n",
       "   'TA',\n",
       "   'JM',\n",
       "   'PP',\n",
       "   'FG',\n",
       "   'BU',\n",
       "   'V',\n",
       "   'MA',\n",
       "   'FU'],\n",
       "  '农产品': ['M',\n",
       "   'SR',\n",
       "   'Y',\n",
       "   'P',\n",
       "   'A',\n",
       "   'B',\n",
       "   'C',\n",
       "   'CF',\n",
       "   'OI',\n",
       "   'JD',\n",
       "   'CS',\n",
       "   'RS',\n",
       "   'RM',\n",
       "   'RI',\n",
       "   'LR',\n",
       "   'WH',\n",
       "   'JR',\n",
       "   'PM',\n",
       "   'AP',\n",
       "   'CY']},\n",
       " 'original_industry_Nanhua_second_industry_map': {'贵金属': ['AU', 'AG'],\n",
       "  '有色金属': ['CU', 'AL', 'PB', 'ZN', 'NI', 'SN'],\n",
       "  '黑色产业': ['RB', 'I', 'JM', 'J', 'HC', 'WR', 'SM', 'SF'],\n",
       "  '黑色原材料': ['I', 'JM', 'J', 'SM', 'SF'],\n",
       "  '油脂油料': ['A', 'B', 'M', 'OI', 'P', 'RM', 'RS'],\n",
       "  '煤炭': ['ZC', 'JM', 'J'],\n",
       "  '建材': ['FG', 'RB', 'V', 'BB', 'FB'],\n",
       "  '棉花糖': ['CF', 'SR']},\n",
       " 'original_industry_RQ_industry_map': {'谷物': ['A',\n",
       "   'C',\n",
       "   'RI',\n",
       "   'JR',\n",
       "   'LR',\n",
       "   'PM',\n",
       "   'RR',\n",
       "   'WH',\n",
       "   'WT'],\n",
       "  '贵金属': ['AG', 'AU'],\n",
       "  '有色': ['AL', 'CU', 'NI', 'PB', 'SN', 'ZN'],\n",
       "  '农产品': ['AP', 'CJ', 'CS', 'JD'],\n",
       "  '油脂': ['B', 'M', 'OI', 'P', 'RM', 'RS', 'Y'],\n",
       "  '建材': ['BB', 'FB', 'FG', 'V'],\n",
       "  '化工': ['BU', 'EB', 'EG', 'L', 'MA', 'NR', 'PP', 'RU', 'SP', 'TA', 'UR'],\n",
       "  '软商品': ['CF', 'CY', 'SR'],\n",
       "  '能源': ['FU', 'SC', 'ZC'],\n",
       "  '焦煤钢矿': ['HC', 'I', 'J', 'JM', 'RB', 'SF', 'SM', 'SS', 'WR'],\n",
       "  '股指': ['IC', 'IF', 'IH'],\n",
       "  '未知': ['LU', 'PG', 'SA', 'PF', 'BC'],\n",
       "  '国债': ['T', 'TF', 'TS']},\n",
       " 'actual_industry_actual_industry_map': {'1': ['SC', 'FU', 'LU'],\n",
       "  '2': ['BU', 'SC', 'FU', 'LU'],\n",
       "  '3': ['TA', 'LU', 'SC'],\n",
       "  '4': ['EB', 'FU', 'SC'],\n",
       "  '5': ['MA', 'L', 'PP', 'RN', 'NR', 'EB', 'EG', 'TA', 'BU'],\n",
       "  '6': ['L', 'PP'],\n",
       "  '7': ['V', 'L', 'PP'],\n",
       "  '8': ['V', 'MA', 'L', 'PP', 'RN', 'NR', 'EB', 'EG', 'TA', 'BU'],\n",
       "  '9': ['FF', 'TA'],\n",
       "  '10': ['PF', 'EG', 'BU'],\n",
       "  '11': ['RN', 'NR'],\n",
       "  '12': ['AL', 'PB', 'CU', 'ZN', 'NI', 'SN', 'BC'],\n",
       "  '13': ['BC', 'SM'],\n",
       "  '14': ['WH', 'BC'],\n",
       "  '15': ['ZC', 'BC'],\n",
       "  '16': ['ZN', 'RN'],\n",
       "  '17': ['CU', 'L', 'RN'],\n",
       "  '18': ['CU', 'L', 'V', 'PP', 'MA', 'BU', 'TA', 'EB', 'EG'],\n",
       "  '19': ['CF', 'CY'],\n",
       "  '20': ['CF', 'CY', 'NR'],\n",
       "  '21': ['JM', 'J', 'I', 'RB', 'HC'],\n",
       "  '22': ['C', 'CS'],\n",
       "  '23': ['AU', 'AG'],\n",
       "  '24': ['OI', 'Y', 'P', 'A', 'B', 'M', 'RM'],\n",
       "  '25': ['OI', 'P', 'Y'],\n",
       "  '26': ['RM', 'M']},\n",
       " 'actual_industry_actual_five_industry': {'化工能源': ['V',\n",
       "   'L',\n",
       "   'PP',\n",
       "   'MA',\n",
       "   'RU',\n",
       "   'EB',\n",
       "   'EG',\n",
       "   'TA',\n",
       "   'BU',\n",
       "   'SC',\n",
       "   'FU',\n",
       "   'LU',\n",
       "   'NR',\n",
       "   'SA',\n",
       "   'FG',\n",
       "   'SP',\n",
       "   'UR',\n",
       "   'PG'],\n",
       "  '黑色': ['JM', 'J', 'I', 'RB', 'HC', 'ZC', 'SF', 'SS', 'SM', 'WR'],\n",
       "  '有色_贵金属': ['AL', 'PB', 'CU', 'ZN', 'SN', 'BC', 'AU', 'AG'],\n",
       "  '油脂油料': ['OI', 'Y', 'P', 'A', 'B', 'M', 'RM', 'RS'],\n",
       "  '农产品_软商品': ['WT',\n",
       "   'LH',\n",
       "   'PK',\n",
       "   'PM',\n",
       "   'RI',\n",
       "   'LR',\n",
       "   'JR',\n",
       "   'WH',\n",
       "   'CY',\n",
       "   'RR',\n",
       "   'CJ',\n",
       "   'C',\n",
       "   'AP',\n",
       "   'CS',\n",
       "   'JD',\n",
       "   'CF',\n",
       "   'SR',\n",
       "   'PF'],\n",
       "  'Others': ['BB', 'FB']},\n",
       " 'original_industry_Wind_industry_map': {'非金属建材': ['FG', 'V', 'FB', 'BB'],\n",
       "  '贵金属': ['AU', 'AG'],\n",
       "  '油脂油料': ['M', 'Y', 'P', 'OI', 'RM', 'A', 'B', 'RS'],\n",
       "  '软商品': ['CF', 'SR', 'CY'],\n",
       "  '有色': ['CU', 'AL', 'NI', 'ZN', 'SN', 'BC', 'PB'],\n",
       "  '焦煤钢矿': ['I', 'RB', 'J', 'HC', 'SS', 'JM', 'SM', 'SF', 'WR'],\n",
       "  '能源': ['SC', 'ZC', 'FU', 'LU', 'PG'],\n",
       "  '化工': ['TA', 'RU', 'SP', 'MA', 'BU', 'L', 'PP', 'EG', 'NR', 'EB'],\n",
       "  '谷物': ['C', 'RR', 'WH', 'PM', 'JR', 'LR', 'RI'],\n",
       "  '农副产品': ['AP', 'JD', 'CS', 'CJ']}}"
      ]
     },
     "execution_count": 15,
     "metadata": {},
     "output_type": "execute_result"
    }
   ],
   "source": [
    "self.get_all_industry_symbol_maps()"
   ]
  },
  {
   "cell_type": "markdown",
   "id": "timely-french",
   "metadata": {
    "ExecuteTime": {
     "end_time": "2021-04-08T11:47:25.516367Z",
     "start_time": "2021-04-08T11:47:25.510382Z"
    }
   },
   "source": [
    "# 获取所有行业分类标准名称列表"
   ]
  },
  {
   "cell_type": "code",
   "execution_count": 17,
   "id": "fitted-expression",
   "metadata": {
    "ExecuteTime": {
     "end_time": "2021-04-08T11:49:09.359302Z",
     "start_time": "2021-04-08T11:49:09.349821Z"
    }
   },
   "outputs": [
    {
     "data": {
      "text/plain": [
       "{'actual_industry': ['actual_five_industry', 'actual_industry_map'],\n",
       " 'original_industry': ['Huatai_industry_map',\n",
       "  'Nanhua_first_industry_map',\n",
       "  'Nanhua_second_industry_map',\n",
       "  'RQ_industry_map',\n",
       "  'Wind_industry_map']}"
      ]
     },
     "execution_count": 17,
     "metadata": {},
     "output_type": "execute_result"
    }
   ],
   "source": [
    "self.get_all_industry_list()"
   ]
  },
  {
   "cell_type": "code",
   "execution_count": null,
   "id": "joint-correction",
   "metadata": {},
   "outputs": [],
   "source": []
  }
 ],
 "metadata": {
  "kernelspec": {
   "display_name": "Python 3",
   "language": "python",
   "name": "python3"
  },
  "language_info": {
   "codemirror_mode": {
    "name": "ipython",
    "version": 3
   },
   "file_extension": ".py",
   "mimetype": "text/x-python",
   "name": "python",
   "nbconvert_exporter": "python",
   "pygments_lexer": "ipython3",
   "version": "3.7.8rc1"
  },
  "toc": {
   "base_numbering": 1,
   "nav_menu": {},
   "number_sections": true,
   "sideBar": true,
   "skip_h1_title": false,
   "title_cell": "Table of Contents",
   "title_sidebar": "Contents",
   "toc_cell": false,
   "toc_position": {},
   "toc_section_display": true,
   "toc_window_display": true
  },
  "varInspector": {
   "cols": {
    "lenName": 16,
    "lenType": 16,
    "lenVar": 40
   },
   "kernels_config": {
    "python": {
     "delete_cmd_postfix": "",
     "delete_cmd_prefix": "del ",
     "library": "var_list.py",
     "varRefreshCmd": "print(var_dic_list())"
    },
    "r": {
     "delete_cmd_postfix": ") ",
     "delete_cmd_prefix": "rm(",
     "library": "var_list.r",
     "varRefreshCmd": "cat(var_dic_list()) "
    }
   },
   "types_to_exclude": [
    "module",
    "function",
    "builtin_function_or_method",
    "instance",
    "_Feature"
   ],
   "window_display": true
  }
 },
 "nbformat": 4,
 "nbformat_minor": 5
}
