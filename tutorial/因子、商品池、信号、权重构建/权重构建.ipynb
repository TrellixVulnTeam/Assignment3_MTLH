{
 "cells": [
  {
   "cell_type": "markdown",
   "id": "dated-digest",
   "metadata": {},
   "source": [
    "# 导入库"
   ]
  },
  {
   "cell_type": "code",
   "execution_count": 1,
   "id": "dutch-cooling",
   "metadata": {
    "ExecuteTime": {
     "end_time": "2021-04-12T02:44:32.583363Z",
     "start_time": "2021-04-12T02:44:32.576785Z"
    }
   },
   "outputs": [],
   "source": [
    "import os\n",
    "from pathlib import Path\n",
    "os.chdir(Path(os.getcwd()).parent.parent)"
   ]
  },
  {
   "cell_type": "code",
   "execution_count": 2,
   "id": "important-profession",
   "metadata": {
    "ExecuteTime": {
     "end_time": "2021-04-12T02:44:38.442207Z",
     "start_time": "2021-04-12T02:44:38.421725Z"
    }
   },
   "outputs": [
    {
     "data": {
      "text/plain": [
       "'D:\\\\LFProjects\\\\NewPythonProject'"
      ]
     },
     "execution_count": 2,
     "metadata": {},
     "output_type": "execute_result"
    }
   ],
   "source": [
    "os.getcwd()"
   ]
  },
  {
   "cell_type": "markdown",
   "id": "quantitative-finnish",
   "metadata": {},
   "source": [
    "# 权重路径结构"
   ]
  },
  {
   "attachments": {
    "image.png": {
     "image/png": "[encoded data removed]"
    }
   },
   "cell_type": "markdown",
   "id": "cultural-expense",
   "metadata": {},
   "source": [
    "权重文件夹位于weight文件夹中，然后根据权重类别设置子文件夹，目前有EqualWeight, GroupWeight, TimeSeriesWeight, VolWeight， 分别表示等权重、分组权重（仅分组使用）、时间序列权重、波动率权重。每一类权重有许多种类，每个具体的权重构成一个py文件，同时在py文件里实现一个权重类，例如：\n",
    "![image.png](attachment:image.png)"
   ]
  },
  {
   "cell_type": "markdown",
   "id": "threaded-poland",
   "metadata": {},
   "source": [
    "# 如何构建权重"
   ]
  },
  {
   "cell_type": "markdown",
   "id": "answering-photographer",
   "metadata": {},
   "source": [
    "## 权重基类BaseWeight"
   ]
  },
  {
   "cell_type": "code",
   "execution_count": 3,
   "id": "verbal-federation",
   "metadata": {
    "ExecuteTime": {
     "end_time": "2021-04-12T03:01:22.468339Z",
     "start_time": "2021-04-12T03:01:22.454783Z"
    }
   },
   "outputs": [],
   "source": [
    "from weight.base import BaseWeight"
   ]
  },
  {
   "cell_type": "markdown",
   "id": "advance-interpretation",
   "metadata": {},
   "source": [
    "### 权重基类BaseWeight的属性和方法"
   ]
  },
  {
   "cell_type": "code",
   "execution_count": 4,
   "id": "hollywood-volume",
   "metadata": {
    "ExecuteTime": {
     "end_time": "2021-04-12T03:02:05.748040Z",
     "start_time": "2021-04-12T03:02:05.741049Z"
    }
   },
   "outputs": [
    {
     "data": {
      "text/plain": [
       "['_abc_impl',\n",
       " '_get_param_names',\n",
       " 'get_params',\n",
       " 'get_string',\n",
       " 'get_weight',\n",
       " 'set_params',\n",
       " 'set_signal']"
      ]
     },
     "execution_count": 4,
     "metadata": {},
     "output_type": "execute_result"
    }
   ],
   "source": [
    "[i for i in dir(BaseWeight) if not i.startswith(\"__\")]"
   ]
  },
  {
   "cell_type": "markdown",
   "id": "august-wrong",
   "metadata": {},
   "source": [
    "1.set_signal: 得到权重首先需要知道信号，通过set_signal设置信号。\\\n",
    "2.get_weight: 经过计算得到权重DataFrame，如果是GroupWeight，则是权重字典。"
   ]
  },
  {
   "cell_type": "code",
   "execution_count": 5,
   "id": "terminal-sword",
   "metadata": {
    "ExecuteTime": {
     "end_time": "2021-04-12T03:15:52.846105Z",
     "start_time": "2021-04-12T03:15:52.835598Z"
    }
   },
   "outputs": [],
   "source": [
    "import inspect\n",
    "from pathlib import Path\n",
    "from pandas import DataFrame\n",
    "from abc import abstractmethod\n",
    "\n",
    "from bases.base import BaseClass\n",
    "\n",
    "class BaseWeight(BaseClass):\n",
    "\n",
    "    def __init__(self, **params) -> None:\n",
    "        \"\"\"Constructor\"\"\"\n",
    "        super().__init__(**params)\n",
    "        self.group: str = Path(inspect.getfile(self.__class__)).parent.name\n",
    "        self.name: str = self.__class__.__name__\n",
    "        self.signal_df: DataFrame = None\n",
    "        self.weight_df: DataFrame = None\n",
    "\n",
    "    def set_signal(self, signal_df: DataFrame) -> None:\n",
    "        \"\"\"\n",
    "        设置信号DataFrame\n",
    "\n",
    "        Parameters\n",
    "        ----------\n",
    "        signal_df: DataFrame\n",
    "                    信号DataFrame, index为交易时间, columns为品种代码, data为信号, 做多为1, 做空为-1,空仓为0\n",
    "\n",
    "        Returns\n",
    "        -------\n",
    "        None\n",
    "        \"\"\"\n",
    "        self.signal_df = signal_df\n",
    "\n",
    "    @abstractmethod\n",
    "    def get_weight(self) -> DataFrame:\n",
    "        \"\"\"\n",
    "        获取权重\n",
    "        Returns\n",
    "        -------\n",
    "        权重DataFrame\n",
    "        \"\"\"\n",
    "        raise NotImplementedError\n",
    "\n",
    "    def __repr__(self):\n",
    "        group = self.group\n",
    "        name = self.name\n",
    "        title = ''\n",
    "        title += f\"weight(group={group}, name={name}, \"\n",
    "        # 添加因子参数\n",
    "        for key, value in self.get_params().items():\n",
    "            title += f\"{key}={value}, \"\n",
    "        title = title[:-2]\n",
    "        title += \")\"\n",
    "        return title\n",
    "\n",
    "    def get_string(self) -> str:\n",
    "        return self.__repr__()"
   ]
  },
  {
   "cell_type": "markdown",
   "id": "secret-short",
   "metadata": {},
   "source": [
    "## 单类权重的基类"
   ]
  },
  {
   "cell_type": "markdown",
   "id": "active-solution",
   "metadata": {},
   "source": [
    "某些权重会有该类权重的特性，通过定义这类权重的基类，可以简化这类权重的各个具体权重的计算逻辑，常见的情形:\\\n",
    "1.权重在计算时一些代码时公共的。\\\n",
    "2.同类权重中的不同信号都需要同一个获取数据的方法。"
   ]
  },
  {
   "cell_type": "code",
   "execution_count": 6,
   "id": "emerging-organizer",
   "metadata": {
    "ExecuteTime": {
     "end_time": "2021-04-12T03:17:48.678709Z",
     "start_time": "2021-04-12T03:17:48.671700Z"
    }
   },
   "outputs": [],
   "source": [
    "import numpy as np\n",
    "from typing import Dict\n",
    "from pandas import DataFrame\n",
    "from abc import abstractmethod\n",
    "from weight.base import BaseWeight\n",
    "\n",
    "class BaseGroupWeight(BaseWeight):\n",
    "\n",
    "    def __init__(self, **params) -> None:\n",
    "        \"\"\"Constructor\"\"\"\n",
    "        super().__init__(**params)\n",
    "\n",
    "    def get_weight(self) -> Dict[int, DataFrame]:\n",
    "        \"\"\"\n",
    "        获取因子的权重DataFrame字典\n",
    "\n",
    "        Returns\n",
    "        -------\n",
    "        weight_df_dict: Dict[int, DataFrame]\n",
    "                        因子的权重DataFrame字典\n",
    "        \"\"\"\n",
    "        if not isinstance(self.signal_df, DataFrame):\n",
    "            raise ValueError(\"Please specify signal df first!\")\n",
    "\n",
    "        signal_df = self.signal_df\n",
    "        new_signal_df = signal_df.copy()\n",
    "        new_signal_df[signal_df <= 0.0] = np.nan\n",
    "        max_num = signal_df.max().max()\n",
    "\n",
    "        weight_df_dict: Dict[int, DataFrame] = {}\n",
    "        for i in range(1, int(max_num)+1):\n",
    "            df = new_signal_df.copy()\n",
    "            df[df != i] = np.nan\n",
    "            single_weight_df = self.get_single_weight(df)\n",
    "            weight_df_dict[i] = single_weight_df\n",
    "\n",
    "        self.weight_df_dict = weight_df_dict\n",
    "        return weight_df_dict\n",
    "\n",
    "    @abstractmethod\n",
    "    def get_single_weight(self, single_signal_df: DataFrame) -> DataFrame:\n",
    "        \"\"\"\n",
    "        获取因子各组的权重DataFrame\n",
    "\n",
    "        Parameters\n",
    "        __________\n",
    "        signle_signal_df: DataFrame\n",
    "                            单一组别的信号DataFrame, index为交易时间,columns为品种代码，data为信号\n",
    "\n",
    "        Returns\n",
    "        -------\n",
    "        因子各组的权重DataFrame\n",
    "        \"\"\"\n",
    "        raise NotImplementedError"
   ]
  },
  {
   "cell_type": "markdown",
   "id": "differential-blogger",
   "metadata": {},
   "source": [
    "在分组权重中，由于可以提炼出get_single_weight这个方法，各个具体的分组回测只需要实现get_single_weight即可，不用再实现get_weight了。"
   ]
  },
  {
   "cell_type": "markdown",
   "id": "considered-spoke",
   "metadata": {},
   "source": [
    "## 以NoRiskNeutralEqualWeight为例构建权重"
   ]
  },
  {
   "cell_type": "code",
   "execution_count": 7,
   "id": "backed-concentrate",
   "metadata": {
    "ExecuteTime": {
     "end_time": "2021-04-12T03:36:23.614700Z",
     "start_time": "2021-04-12T03:36:23.597746Z"
    }
   },
   "outputs": [],
   "source": [
    "import numpy as np\n",
    "from pandas import DataFrame\n",
    "from weight.base import BaseWeight\n",
    "\n",
    "class NoRiskNeutralEqualWeight(BaseWeight):\n",
    "    \"\"\"\n",
    "    等权重生成器,\n",
    "    \"\"\"\n",
    "    def __init__(self) -> None:\n",
    "        \"\"\"Constructor\"\"\"\n",
    "        super().__init__()\n",
    "\n",
    "    def get_weight(self) -> DataFrame:\n",
    "        \"\"\"\n",
    "        获取权重DataFrame\n",
    "\n",
    "        Returns\n",
    "        -------\n",
    "        weight_df: DataFrame\n",
    "                    权重DataFrame\n",
    "        \"\"\"\n",
    "\n",
    "        # 预先检查\n",
    "        if not isinstance(self.signal_df, DataFrame):\n",
    "            raise ValueError(\"Please specify signal_df first!\")\n",
    "\n",
    "        signal_df = self.signal_df\n",
    "        weight_df = (signal_df.T / np.abs(signal_df).sum(axis=1)).T\n",
    "        self.weight_df = weight_df\n",
    "        return weight_df"
   ]
  },
  {
   "cell_type": "markdown",
   "id": "outstanding-slave",
   "metadata": {
    "ExecuteTime": {
     "end_time": "2021-04-12T05:12:57.152128Z",
     "start_time": "2021-04-12T05:12:57.145143Z"
    }
   },
   "source": [
    "## 分组权重（特殊）"
   ]
  },
  {
   "cell_type": "markdown",
   "id": "direct-nebraska",
   "metadata": {},
   "source": [
    "### 分组权重基类\n",
    "\n"
   ]
  },
  {
   "cell_type": "code",
   "execution_count": 9,
   "id": "detailed-layer",
   "metadata": {
    "ExecuteTime": {
     "end_time": "2021-04-12T05:37:08.236930Z",
     "start_time": "2021-04-12T05:37:08.222409Z"
    }
   },
   "outputs": [],
   "source": [
    "import numpy as np\n",
    "from typing import Dict\n",
    "from pandas import DataFrame\n",
    "from abc import abstractmethod\n",
    "from weight.base import BaseWeight\n",
    "\n",
    "class BaseGroupWeight(BaseWeight):\n",
    "\n",
    "    def __init__(self, **params) -> None:\n",
    "        \"\"\"Constructor\"\"\"\n",
    "        super().__init__(**params)\n",
    "\n",
    "    def get_weight(self) -> Dict[int, DataFrame]:\n",
    "        \"\"\"\n",
    "        获取因子的权重DataFrame字典\n",
    "\n",
    "        Returns\n",
    "        -------\n",
    "        weight_df_dict: Dict[int, DataFrame]\n",
    "                        因子的权重DataFrame字典\n",
    "        \"\"\"\n",
    "        if not isinstance(self.signal_df, DataFrame):\n",
    "            raise ValueError(\"Please specify signal df first!\")\n",
    "\n",
    "        signal_df = self.signal_df\n",
    "        new_signal_df = signal_df.copy()\n",
    "        new_signal_df[signal_df <= 0.0] = np.nan\n",
    "        max_num = signal_df.max().max()\n",
    "\n",
    "        weight_df_dict: Dict[int, DataFrame] = {}\n",
    "        for i in range(1, int(max_num)+1):\n",
    "            df = new_signal_df.copy()\n",
    "            df[df != i] = np.nan\n",
    "            single_weight_df = self.get_single_weight(df)\n",
    "            weight_df_dict[i] = single_weight_df\n",
    "\n",
    "        self.weight_df_dict = weight_df_dict\n",
    "        return weight_df_dict\n",
    "\n",
    "    @abstractmethod\n",
    "    def get_single_weight(self, single_signal_df: DataFrame) -> DataFrame:\n",
    "        \"\"\"\n",
    "        获取因子各组的权重DataFrame\n",
    "\n",
    "        Parameters\n",
    "        __________\n",
    "        signle_signal_df: DataFrame\n",
    "                            单一组别的信号DataFrame, index为交易时间,columns为品种代码，data为信号\n",
    "\n",
    "        Returns\n",
    "        -------\n",
    "        因子各组的权重DataFrame\n",
    "        \"\"\"\n",
    "        raise NotImplementedError"
   ]
  },
  {
   "cell_type": "code",
   "execution_count": 10,
   "id": "actual-cardiff",
   "metadata": {
    "ExecuteTime": {
     "end_time": "2021-04-12T05:38:46.880421Z",
     "start_time": "2021-04-12T05:38:46.873459Z"
    }
   },
   "outputs": [],
   "source": [
    "from pandas import DataFrame\n",
    "from weight.GroupWeight.base import BaseGroupWeight\n",
    "\n",
    "class GroupEqualWeight(BaseGroupWeight):\n",
    "\n",
    "    def __init__(self, **params) -> None:\n",
    "        \"\"\"Constructor\"\"\"\n",
    "        super().__init__(**params)\n",
    "\n",
    "    def get_single_weight(self, single_signal_df: DataFrame) -> DataFrame:\n",
    "        \"\"\"\n",
    "        获取因子各组的权重DataFrame\n",
    "\n",
    "        Parameters\n",
    "        __________\n",
    "        signle_signal_df: DataFrame\n",
    "                            单一组别的信号DataFrame, index为交易时间,columns为品种代码，data为信号\n",
    "\n",
    "        Returns\n",
    "        -------\n",
    "        因子各组的权重DataFrame\n",
    "        \"\"\"\n",
    "        single_weight_df = (single_signal_df.T / single_signal_df.sum(axis=1)).T\n",
    "        return single_weight_df"
   ]
  },
  {
   "cell_type": "code",
   "execution_count": null,
   "id": "severe-integrity",
   "metadata": {},
   "outputs": [],
   "source": []
  }
 ],
 "metadata": {
  "kernelspec": {
   "display_name": "Python 3",
   "language": "python",
   "name": "python3"
  },
  "language_info": {
   "codemirror_mode": {
    "name": "ipython",
    "version": 3
   },
   "file_extension": ".py",
   "mimetype": "text/x-python",
   "name": "python",
   "nbconvert_exporter": "python",
   "pygments_lexer": "ipython3",
   "version": "3.7.8rc1"
  },
  "toc": {
   "base_numbering": 1,
   "nav_menu": {},
   "number_sections": true,
   "sideBar": true,
   "skip_h1_title": false,
   "title_cell": "Table of Contents",
   "title_sidebar": "Contents",
   "toc_cell": false,
   "toc_position": {},
   "toc_section_display": true,
   "toc_window_display": false
  },
  "varInspector": {
   "cols": {
    "lenName": 16,
    "lenType": 16,
    "lenVar": 40
   },
   "kernels_config": {
    "python": {
     "delete_cmd_postfix": "",
     "delete_cmd_prefix": "del ",
     "library": "var_list.py",
     "varRefreshCmd": "print(var_dic_list())"
    },
    "r": {
     "delete_cmd_postfix": ") ",
     "delete_cmd_prefix": "rm(",
     "library": "var_list.r",
     "varRefreshCmd": "cat(var_dic_list()) "
    }
   },
   "types_to_exclude": [
    "module",
    "function",
    "builtin_function_or_method",
    "instance",
    "_Feature"
   ],
   "window_display": true
  }
 },
 "nbformat": 4,
 "nbformat_minor": 5
}
